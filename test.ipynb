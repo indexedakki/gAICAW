{
 "cells": [
  {
   "cell_type": "code",
   "execution_count": 30,
   "metadata": {},
   "outputs": [],
   "source": [
    "import pandas as pd\n",
    "\n",
    "# Data for the table\n",
    "data = {\n",
    "    'Formulation': ['a','b'],\n",
    "    'Current reporting interval 01 Oct 2013 to 30 Sep 2015 01 Oct 2013 to 30 Sep 2015 Amount sold (mg)':0,\n",
    "    'Estimated exposure (patient-years)':0,\n",
    "    'Cumulative Until 30 Sep 2015 Until 30 Sep 2015 Amount sold (mg)':0,\n",
    "    'Estimated exposure (patient-years) ':0,\n",
    "}\n",
    "\n",
    "df = pd.DataFrame(data)"
   ]
  },
  {
   "cell_type": "code",
   "execution_count": 40,
   "metadata": {},
   "outputs": [
    {
     "data": {
      "text/html": [
       "<div>\n",
       "<style scoped>\n",
       "    .dataframe tbody tr th:only-of-type {\n",
       "        vertical-align: middle;\n",
       "    }\n",
       "\n",
       "    .dataframe tbody tr th {\n",
       "        vertical-align: top;\n",
       "    }\n",
       "\n",
       "    .dataframe thead th {\n",
       "        text-align: right;\n",
       "    }\n",
       "</style>\n",
       "<table border=\"1\" class=\"dataframe\">\n",
       "  <thead>\n",
       "    <tr style=\"text-align: right;\">\n",
       "      <th></th>\n",
       "      <th>Formulation</th>\n",
       "      <th>Current reporting interval 01 Oct 2013 to 30 Sep 2015 01 Oct 2013 to 30 Sep 2015 Amount sold (mg)</th>\n",
       "      <th>Estimated exposure (patient-years)</th>\n",
       "      <th>Cumulative Until 30 Sep 2015 Until 30 Sep 2015 Amount sold (mg)</th>\n",
       "      <th>Estimated exposure (patient-years)</th>\n",
       "    </tr>\n",
       "  </thead>\n",
       "  <tbody>\n",
       "    <tr>\n",
       "      <th>0</th>\n",
       "      <td>a</td>\n",
       "      <td>2</td>\n",
       "      <td>0</td>\n",
       "      <td>2</td>\n",
       "      <td>0</td>\n",
       "    </tr>\n",
       "    <tr>\n",
       "      <th>1</th>\n",
       "      <td>b</td>\n",
       "      <td>0</td>\n",
       "      <td>0</td>\n",
       "      <td>0</td>\n",
       "      <td>0</td>\n",
       "    </tr>\n",
       "  </tbody>\n",
       "</table>\n",
       "</div>"
      ],
      "text/plain": [
       "  Formulation  \\\n",
       "0           a   \n",
       "1           b   \n",
       "\n",
       "   Current reporting interval 01 Oct 2013 to 30 Sep 2015 01 Oct 2013 to 30 Sep 2015 Amount sold (mg)  \\\n",
       "0                                                  2                                                   \n",
       "1                                                  0                                                   \n",
       "\n",
       "   Estimated exposure (patient-years)  \\\n",
       "0                                   0   \n",
       "1                                   0   \n",
       "\n",
       "   Cumulative Until 30 Sep 2015 Until 30 Sep 2015 Amount sold (mg)  \\\n",
       "0                                                  2                 \n",
       "1                                                  0                 \n",
       "\n",
       "   Estimated exposure (patient-years)   \n",
       "0                                    0  \n",
       "1                                    0  "
      ]
     },
     "execution_count": 40,
     "metadata": {},
     "output_type": "execute_result"
    }
   ],
   "source": [
    "df"
   ]
  },
  {
   "cell_type": "code",
   "execution_count": 39,
   "metadata": {},
   "outputs": [],
   "source": [
    "df.iloc[0,3]=2"
   ]
  },
  {
   "cell_type": "code",
   "execution_count": 12,
   "metadata": {},
   "outputs": [
    {
     "name": "stdout",
     "output_type": "stream",
     "text": [
      "       Formulation                                   \n",
      "  Amount sold (mg) Estimated exposure (patient-years)\n",
      "0                1                                  4\n",
      "1                2                                  5\n",
      "2                3                                  6\n"
     ]
    }
   ],
   "source": [
    "import pandas as pd\n",
    "\n",
    "file_path = 'C:\\\\Users\\\\2113196\\\\Downloads\\\\SEVELAMER reporting and cumulative period sales_current.xlsx'\n",
    "df1 = pd.read_excel(file_path, sheet_name='Reporting interval', skiprows=4)\n",
    "df2 = pd.read_excel(file_path, sheet_name='Region')\n",
    "\n",
    "df1.insert(df1.columns.get_loc('Product name') + 1, 'Formulation', '')\n",
    "df1['Product name'] = df1['Product name'].astype(str)\n",
    "for index, row in df1.iterrows():\n",
    "    product_name = row['Product name']\n",
    "    if 'FCT' in product_name:\n",
    "        df1.at[index, 'Formulation'] = 'Film coated tablet'\n",
    "    elif 'POS' in product_name:\n",
    "        df1.at[index, 'Formulation'] = 'Powder for oral suspension'\n",
    "\n",
    "\n",
    "df1.insert(df1.columns.get_loc('Country') + 1, 'Region', '')\n",
    "df1['Region'] = df1['Country'].map(df2.set_index('Country')['Region'])\n",
    "\n",
    "\n",
    "df1.insert(df1.columns.get_loc('Strength') + 1, 'Strength value', '')\n",
    "for index, row in df1.iterrows():\n",
    "    strength = row['Strength']\n",
    "    if 'MG' in strength:\n",
    "        df1.at[index, 'Strength value'] = float(strength.strip('MG'))\n",
    "\n",
    "\n",
    "# Result variables\n",
    "result_df = df1\n",
    "result_description = 'Data manipulation steps completed.'\n",
    "(result_df, result_description)"
   ]
  },
  {
   "cell_type": "code",
   "execution_count": 6,
   "metadata": {},
   "outputs": [],
   "source": [
    "df.iloc[0,1] = 2"
   ]
  },
  {
   "cell_type": "code",
   "execution_count": null,
   "metadata": {},
   "outputs": [],
   "source": [
    "import zipfile\n",
    "import os\n",
    "import tempfile\n",
    "import shutil\n",
    "from lxml import etree\n",
    "\n",
    "import pandas as pd\n",
    "import xml.etree.ElementTree as ET"
   ]
  },
  {
   "cell_type": "code",
   "execution_count": null,
   "metadata": {},
   "outputs": [],
   "source": [
    "def extract_xml_from_docx(docx_path):\n",
    "    tmp_dir = \"C:\\\\Users\\\\2113196\\\\Downloads\\\\new\"\n",
    "    with zipfile.ZipFile(docx_path, 'r') as zip_ref:\n",
    "        zip_ref.extractall(tmp_dir)\n",
    "    xml_path = os.path.join(tmp_dir, 'word/document.xml')\n",
    "    with open(xml_path, 'r', encoding='utf-8') as file:\n",
    "        xml_content = file.read()\n",
    "    return xml_content, tmp_dir\n",
    "\n",
    "# Extract XML from a Word document\n",
    "# tmp_dir = \"C:\\\\Users\\\\2113196\\\\Downloads\\\\new\"\n",
    "# xml_path = os.path.join(tmp_dir, 'word/document.xml')\n",
    "# print(xml_path)\n",
    "# with open(xml_path, 'r', encoding='utf-8') as file:\n",
    "#     xml_content = file.read()\n",
    "\n",
    "xml_content, tmp_dir = extract_xml_from_docx(\"C:\\\\Users\\\\2113196\\\\Downloads\\\\Table5_1.docx\")"
   ]
  },
  {
   "cell_type": "code",
   "execution_count": null,
   "metadata": {},
   "outputs": [],
   "source": [
    "# Extract XML from a Word document\n",
    "tmp_dir = \"C:\\\\Users\\\\2113196\\\\Downloads\\\\new\"\n",
    "xml_path = os.path.join(tmp_dir, 'word/document.xml')\n",
    "print(xml_path)\n",
    "with open(xml_path, 'r', encoding='utf-8') as file:\n",
    "    xml_content = file.read()"
   ]
  },
  {
   "cell_type": "code",
   "execution_count": 260,
   "metadata": {},
   "outputs": [],
   "source": [
    "file_path = 'C:\\\\Users\\\\2113196\\\\Downloads\\\\Clinical inputs_Section 5.1.xlsx'\n",
    "skip_rows = 4\n",
    "df_clinical_inputs = pd.read_excel(file_path, skiprows=skip_rows )"
   ]
  },
  {
   "cell_type": "code",
   "execution_count": null,
   "metadata": {},
   "outputs": [],
   "source": [
    "import xml.etree.ElementTree as ET\n",
    "\n",
    "file_path = \"C:\\\\Users\\\\2113196\\\\Downloads\\\\New\\\\word\\\\document.xml\"\n",
    "\n",
    "# Load the XML file\n",
    "tree = ET.parse(file_path)\n",
    "root = tree.getroot()\n",
    "\n",
    "print(root)\n",
    "# Display the content of the XML file\n",
    "# for child in root:\n",
    "#     print(ET.tostring(child, encoding='utf8').decode('utf8'))"
   ]
  },
  {
   "cell_type": "code",
   "execution_count": null,
   "metadata": {},
   "outputs": [],
   "source": [
    "# Replace text 'AAA' with '69'\n",
    "for elem in root.iter():\n",
    "    if elem.text:\n",
    "        elem.text = elem.text.replace('45', '')\n",
    "    if elem.tail:\n",
    "        elem.tail = elem.tail.replace('or', '')\n",
    "    if elem.text:\n",
    "        elem.text = elem.text.replace('##', '67')\n",
    "    if elem.tail:\n",
    "        elem.tail = elem.tail.replace('AAC', '79')\n",
    "\n",
    "# Save the modified XML file\n",
    "tree.write(file_path)"
   ]
  },
  {
   "cell_type": "code",
   "execution_count": null,
   "metadata": {},
   "outputs": [],
   "source": [
    "pip install Spire.Xls\n"
   ]
  },
  {
   "cell_type": "code",
   "execution_count": null,
   "metadata": {},
   "outputs": [],
   "source": [
    "from spire.xls import *\n",
    "from spire.xls.common import *\n",
    "\n",
    "# Instantiate a Workbook object\n",
    "workbook = Workbook()\n",
    "# Load an Excel file\n",
    "workbook.LoadFromFile(\"C:\\\\Users\\\\2113196\\\\Downloads\\\\LineListingTable.xlsx\")\n",
    "\n",
    "# Save the Excel file to HTML format\n",
    "workbook.SaveToHtml(\"C:\\\\Users\\\\2113196\\\\Downloads\\\\ExcelToHTML.html\")\n",
    "\n",
    "workbook.Dispose()"
   ]
  },
  {
   "cell_type": "code",
   "execution_count": null,
   "metadata": {},
   "outputs": [],
   "source": [
    "import zipfile\n",
    "import os\n",
    "import tempfile\n",
    "import shutil\n",
    "from lxml import etree\n",
    "def xml_to_docx(xml_content, output_path):\n",
    "    tmp_dir = tempfile.mkdtemp()\n",
    "    xml_path = os.path.join(tmp_dir, 'word/document.xml')\n",
    "    with open(xml_path, 'w', encoding='utf-8') as file:\n",
    "        file.write(xml_content)\n",
    "    with zipfile.ZipFile(output_path, 'w') as zip_ref:\n",
    "        for root, dirs, files in os.walk(tmp_dir):\n",
    "            for file in files:\n",
    "                zip_ref.write(os.path.join(root, file),\n",
    "                              os.path.relpath(os.path.join(root, file), tmp_dir))\n",
    "    shutil.rmtree(tmp_dir)\n",
    "\n",
    "tmp_dir = tempfile.mkdtemp()\n",
    "xml_path = os.path.join(tmp_dir, 'word/document.xml')\n",
    "with open(xml_path, 'r', encoding='utf-8') as file:\n",
    "    xml_content = file.read()\n",
    "# Modify the XML content as needed\n",
    "# For example, you can parse it with lxml and modify it\n",
    "root = etree.fromstring(xml_content.encode('utf-8'))\n",
    "# Modify the root element or its children as needed\n",
    "\n",
    "# Convert the modified XML back to a Word document\n",
    "xml_to_docx(etree.tostring(root, pretty_print=True).decode('utf-8'), 'output_docx_file.docx')"
   ]
  },
  {
   "cell_type": "code",
   "execution_count": null,
   "metadata": {},
   "outputs": [],
   "source": [
    "import pandas as pd\n",
    "\n",
    "df1 = pd.read_excel('C:\\\\Users\\\\2113196\\\\Downloads\\\\LL_reporting.xlsx')\n",
    "df1\n",
    "df2 = pd.read_excel('C:\\\\Users\\\\2113196\\\\Downloads\\\\Cognizant_CRS.xlsx', sheet_name='Search Terms')\n",
    "df2"
   ]
  },
  {
   "cell_type": "code",
   "execution_count": null,
   "metadata": {},
   "outputs": [],
   "source": [
    "\n",
    "df1"
   ]
  },
  {
   "cell_type": "code",
   "execution_count": null,
   "metadata": {},
   "outputs": [],
   "source": [
    "filtered_df = df1[df1.iloc[:,8].isin(df2.iloc[:,7])]\n",
    "filtered_df"
   ]
  },
  {
   "cell_type": "code",
   "execution_count": null,
   "metadata": {},
   "outputs": [],
   "source": [
    "df1[df1.columns.intersection(['SMQ (Broad) Medication errors 20.1']).isin(df1['MedDRA PT'])]"
   ]
  },
  {
   "cell_type": "code",
   "execution_count": null,
   "metadata": {},
   "outputs": [],
   "source": [
    "df1['MedDRA PT']"
   ]
  },
  {
   "cell_type": "code",
   "execution_count": null,
   "metadata": {},
   "outputs": [],
   "source": [
    "df2['SMQ (Broad) Medication errors 20.1']"
   ]
  },
  {
   "cell_type": "code",
   "execution_count": null,
   "metadata": {},
   "outputs": [],
   "source": [
    "import pandas as pd\n",
    "\n",
    "# Load Excel to DataFrame\n",
    "path_excel = 'C:\\\\Users\\\\2113196\\\\Downloads\\\\clinical_table.xlsx'\n",
    "df = pd.read_excel(path_excel, engine='openpyxl')\n",
    "\n",
    "# Convert DataFrame to JSON\n",
    "json_data = df.to_json(orient='records', indent=4)\n",
    "print(json_data)\n",
    "\n",
    "# Write JSON data to file (optional)\n",
    "# path_json = 'final_result.json'\n",
    "# with open(path_json, 'w') as json_file:\n",
    "#     json_file.write(json_data)"
   ]
  },
  {
   "cell_type": "code",
   "execution_count": null,
   "metadata": {},
   "outputs": [],
   "source": [
    "import json\n",
    "# Decode the JSON string into a Python dictionary\n",
    "json_data_dict = json.loads(json_data)\n",
    "\n",
    "# Convert JSON to DataFrame\n",
    "df2 = pd.json_normalize(json_data_dict)\n",
    "\n",
    "# Write DataFrame to Excel\n",
    "excel_filename = 'C:\\\\Users\\\\2113196\\\\Downloads\\\\json_data_to_excel.xlsx'\n",
    "df2.to_excel(excel_filename, index=False)"
   ]
  },
  {
   "cell_type": "code",
   "execution_count": null,
   "metadata": {},
   "outputs": [],
   "source": []
  }
 ],
 "metadata": {
  "kernelspec": {
   "display_name": "Python 3",
   "language": "python",
   "name": "python3"
  },
  "language_info": {
   "codemirror_mode": {
    "name": "ipython",
    "version": 3
   },
   "file_extension": ".py",
   "mimetype": "text/x-python",
   "name": "python",
   "nbconvert_exporter": "python",
   "pygments_lexer": "ipython3",
   "version": "3.12.2"
  }
 },
 "nbformat": 4,
 "nbformat_minor": 2
}
